{
 "cells": [
  {
   "cell_type": "code",
   "execution_count": 1,
   "metadata": {},
   "outputs": [],
   "source": [
    "import numpy as np\n",
    "import helpers_and_variables as hlp\n",
    "import ML_helpers as ml_hlp\n",
    "import shap\n",
    "import random\n",
    "\n",
    "# import pixiedust\n",
    "# %%pixie_debugger"
   ]
  },
  {
   "cell_type": "code",
   "execution_count": 2,
   "metadata": {},
   "outputs": [],
   "source": [
    "\"\"\"\n",
    "read the data\n",
    "\"\"\"\n",
    "labels = hlp.load_list_from_json_file()\n",
    "main_dict = hlp.load_dict_from_json_file()"
   ]
  },
  {
   "cell_type": "code",
   "execution_count": 3,
   "metadata": {
    "scrolled": true
   },
   "outputs": [],
   "source": [
    "# # remove vem man bor med\n",
    "# # keys = main_dict.keys()\n",
    "\n",
    "# # for key in keys:\n",
    "# #     d = main_dict[key]\n",
    "# #     d_keys = list(d.keys())\n",
    "# #     for d_key in d_keys:\n",
    "# #         if d_key == \"Q1a\":\n",
    "# #             del main_dict[key][d_key]"
   ]
  },
  {
   "cell_type": "markdown",
   "metadata": {},
   "source": [
    "# split and balance"
   ]
  },
  {
   "cell_type": "code",
   "execution_count": 16,
   "metadata": {},
   "outputs": [],
   "source": [
    "\"\"\"\n",
    "Get a cleaned data list, which text for each patient\n",
    "\"\"\"\n",
    "data_list = hlp.get_data_list_from_main_dict(main_dict, stemm=False)\n",
    "x_train, x_test, y_train, y_test = ml_hlp.get_train_test_split_data(data_list, labels[:len(data_list)], \n",
    "                                                  test_size=0.33, random_state=50)\n",
    "# regularisation\n",
    "\n",
    "# check hugging face for corpus text in swedish\n",
    "# convert dates into information\n",
    "# Self orginised map"
   ]
  },
  {
   "cell_type": "code",
   "execution_count": 17,
   "metadata": {},
   "outputs": [
    {
     "name": "stdout",
     "output_type": "stream",
     "text": [
      "Number of features for each patient is:  4259\n"
     ]
    }
   ],
   "source": [
    "\"\"\" \n",
    "vectorize as tfidf\n",
    "\"\"\"\n",
    "vectorizer = ml_hlp.get_tfidf_vectorization_model(data_list)\n",
    "features = vectorizer.get_feature_names()\n",
    "print(\"Number of features for each patient is: \", len(features))\n",
    "\n",
    "X_train_vectorized = ml_hlp.get_tfidf_vectorized_data(tfidf_model=vectorizer,\n",
    "                                                      to_be_vectorized_data=x_train)\n",
    "X_test_vectorized = ml_hlp.get_tfidf_vectorized_data(tfidf_model=vectorizer,\n",
    "                                                      to_be_vectorized_data=x_test)"
   ]
  },
  {
   "cell_type": "code",
   "execution_count": 18,
   "metadata": {},
   "outputs": [
    {
     "name": "stdout",
     "output_type": "stream",
     "text": [
      "Training data, labels are: [1. 2.]  and prop.: [0.5462963 0.4537037]\n",
      "Test data, labels are: [1. 2.]  and prop.: [0.56807512 0.43192488]\n"
     ]
    }
   ],
   "source": [
    "X_train = ml_hlp.get_csr_matrix(X_train_vectorized)\n",
    "X_test = ml_hlp.get_csr_matrix(X_test_vectorized)\n",
    "Y_train = np.array(y_train, dtype='float')\n",
    "Y_test = np.array(y_test, dtype='float')\n",
    "\n",
    "\"\"\"\n",
    "check the balance of labels\n",
    "\"\"\"\n",
    "unique_train = np.unique(Y_train, return_counts=True); unique_test = np.unique(Y_test, return_counts=True)\n",
    "print(\"Training data, labels are: {0}  and prop.: {1}\".format(unique_train[0], unique_train[1]/len(Y_train)))\n",
    "print(\"Test data, labels are: {0}  and prop.: {1}\".format(unique_test[0], unique_test[1]/len(Y_test)))"
   ]
  },
  {
   "cell_type": "markdown",
   "metadata": {},
   "source": [
    "# Machine Learning #"
   ]
  },
  {
   "cell_type": "code",
   "execution_count": 19,
   "metadata": {},
   "outputs": [
    {
     "name": "stdout",
     "output_type": "stream",
     "text": [
      "0.58 accuracy with a standard deviation of 0.03\n"
     ]
    }
   ],
   "source": [
    "from sklearn.linear_model import LogisticRegression\n",
    "lr = LogisticRegression()\n",
    "# lr.fit(X_train, Y_train)\n",
    "# ml_hlp.get_AUC_ROC_value(X_test, Y_test, lr)\n",
    "\n",
    "ml_hlp.get_cross_validation_scores(lr, X_train, Y_train, cv=5);"
   ]
  },
  {
   "cell_type": "code",
   "execution_count": 20,
   "metadata": {},
   "outputs": [
    {
     "name": "stdout",
     "output_type": "stream",
     "text": [
      "0.57 accuracy with a standard deviation of 0.02\n",
      "0.58 accuracy with a standard deviation of 0.04\n",
      "0.54 accuracy with a standard deviation of 0.05\n",
      "0.53 accuracy with a standard deviation of 0.03\n"
     ]
    }
   ],
   "source": [
    "from sklearn.svm import SVC\n",
    "svm = SVC(kernel='rbf', probability=True)\n",
    "# svm.fit(X_train, Y_train)\n",
    "# ml_hlp.get_AUC_ROC_value(X_test, Y_test, svm)\n",
    "ml_hlp.get_cross_validation_scores(svm, X_train, Y_train, cv=5);\n",
    "\n",
    "from sklearn.ensemble import RandomForestClassifier\n",
    "rf = RandomForestClassifier(criterion = 'entropy', random_state=50)\n",
    "# rf.fit(X_train, Y_train)\n",
    "# ml_hlp.get_AUC_ROC_value(X_test, Y_test, rf)\n",
    "ml_hlp.get_cross_validation_scores(rf, X_train, Y_train, cv=5);\n",
    "\n",
    "from sklearn.neighbors import KNeighborsClassifier\n",
    "knn = KNeighborsClassifier()\n",
    "# knn.fit(X_train, Y_train)\n",
    "# ml_hlp.get_AUC_ROC_value(X_test, Y_test, knn)\n",
    "ml_hlp.get_cross_validation_scores(knn, X_train, Y_train, cv=5);\n",
    "\n",
    "from sklearn.tree import DecisionTreeClassifier\n",
    "dt = DecisionTreeClassifier(criterion = 'entropy', random_state = 50)\n",
    "# dt.fit(X_train, Y_train)\n",
    "# ml_hlp.get_AUC_ROC_value(X_test, Y_test, dt)\n",
    "ml_hlp.get_cross_validation_scores(dt, X_train, Y_train, cv=5);"
   ]
  },
  {
   "cell_type": "code",
   "execution_count": 13,
   "metadata": {},
   "outputs": [
    {
     "name": "stderr",
     "output_type": "stream",
     "text": [
      "Stochastic Optimizer: Maximum iterations (800) reached and the optimization hasn't converged yet.\n",
      "Stochastic Optimizer: Maximum iterations (800) reached and the optimization hasn't converged yet.\n",
      "Stochastic Optimizer: Maximum iterations (800) reached and the optimization hasn't converged yet.\n"
     ]
    },
    {
     "name": "stdout",
     "output_type": "stream",
     "text": [
      "0.57 accuracy with a standard deviation of 0.02\n"
     ]
    },
    {
     "name": "stderr",
     "output_type": "stream",
     "text": [
      "Stochastic Optimizer: Maximum iterations (800) reached and the optimization hasn't converged yet.\n"
     ]
    }
   ],
   "source": [
    "from sklearn.neural_network import MLPClassifier\n",
    "mlp = MLPClassifier(solver='adam', alpha=1e-3, max_iter = 300, \n",
    "                      learning_rate='adaptive',\n",
    "                    hidden_layer_sizes=(5,3), random_state=50)\n",
    "# mlp.fit(X_train, Y_train)\n",
    "# ml_hlp.get_AUC_ROC_value(X_test, Y_test, mlp)\n",
    "ml_hlp.get_cross_validation_scores(mlp, X_train, Y_train, cv=5);"
   ]
  },
  {
   "cell_type": "markdown",
   "metadata": {},
   "source": [
    "# Evaluation"
   ]
  },
  {
   "cell_type": "code",
   "execution_count": null,
   "metadata": {},
   "outputs": [],
   "source": [
    "print(ml_hlp.get_classification_report(cls=rf, test_data=X_test, \n",
    "                              test_labels=Y_test, target_names=[\"cancer\",\"no cancer\"]))\n"
   ]
  },
  {
   "cell_type": "markdown",
   "metadata": {},
   "source": [
    "## Explaination"
   ]
  },
  {
   "cell_type": "code",
   "execution_count": 36,
   "metadata": {},
   "outputs": [],
   "source": [
    "# shap.initjs()"
   ]
  },
  {
   "cell_type": "code",
   "execution_count": 21,
   "metadata": {},
   "outputs": [
    {
     "name": "stdout",
     "output_type": "stream",
     "text": [
      "AUC: 0.576895436579231\n"
     ]
    },
    {
     "data": {
      "image/png": "[encoded data removed]",
      "text/plain": [
       "<Figure size 576x684 with 1 Axes>"
      ]
     },
     "metadata": {
      "needs_background": "light"
     },
     "output_type": "display_data"
    }
   ],
   "source": [
    "rf.fit(X_train, Y_train)\n",
    "ml_hlp.get_AUC_ROC_value(X_test, Y_test, rf)\n",
    "# \n",
    "explainer = shap.TreeExplainer(rf)\n",
    "shap_values = explainer.shap_values(X_train)\n",
    "shap.summary_plot(shap_values, X_test, plot_type=\"bar\", feature_names=features)\n",
    "\n",
    "# shap.force_plot(explainer.expected_value[0], shap_values[0], X_test)"
   ]
  },
  {
   "cell_type": "code",
   "execution_count": 13,
   "metadata": {},
   "outputs": [
    {
     "data": {
      "text/plain": [
       "67"
      ]
     },
     "execution_count": 13,
     "metadata": {},
     "output_type": "execute_result"
    }
   ],
   "source": [
    "# indxes = [9783, 8827, 9890, 8703, 9616, 9791, 9885, 9847, 10429, 9378, 9582, 10443,\n",
    "#  9632, 9613, 9392, 9992, 9895, 9806, 8962, 9910]\n",
    "# indxes = [10136, 9683, 9615, 9429, 9872, 9690, 9687, 8702, 8790, 9266, 9651, 9432,\n",
    "#  9693, 9617, 9277, 9458, 9630, 9697, 10130, 9705]\n",
    "# list_features = list()\n",
    "# for index in indxes:\n",
    "#     list_features.append(features[index])\n",
    "# print(list_features)\n",
    "\"slut\" in data_list[0]\n",
    "data_list[0].find(\"bor\")"
   ]
  },
  {
   "cell_type": "code",
   "execution_count": 12,
   "metadata": {},
   "outputs": [
    {
     "name": "stdout",
     "output_type": "stream",
     "text": [
      " ja högst slutförd utbildning \n"
     ]
    },
    {
     "data": {
      "text/plain": [
       "85"
      ]
     },
     "execution_count": 12,
     "metadata": {},
     "output_type": "execute_result"
    }
   ],
   "source": [
    "idx = data_list[4].find(\"slut\")\n",
    "print(data_list[4][idx-10:idx+20])\n",
    "idx"
   ]
  },
  {
   "cell_type": "code",
   "execution_count": null,
   "metadata": {
    "scrolled": true
   },
   "outputs": [],
   "source": [
    "explainer, shap_values = ml_hlp.get_shap_kernel_explainer_and_values(rf, X_train, X_test)\n",
    "shap.summary_plot(shap_values, X_train, plot_type=\"bar\")"
   ]
  },
  {
   "cell_type": "code",
   "execution_count": null,
   "metadata": {},
   "outputs": [],
   "source": [
    "shap.force_plot(explainer.expected_value[0], shap_values[0], X_test)"
   ]
  },
  {
   "cell_type": "code",
   "execution_count": 18,
   "metadata": {},
   "outputs": [
    {
     "name": "stdout",
     "output_type": "stream",
     "text": [
      "Prediction :  [1.]\n",
      "Actual :      2.0\n"
     ]
    }
   ],
   "source": [
    "from lime import lime_tabular\n",
    "\n",
    "explainer = lime_tabular.LimeTabularExplainer(X_train, mode=\"classification\",\n",
    "                                             class_names=[\"yes\", \"No\"])\n",
    "# explainer\n",
    "idx = random.randint(1, len(X_test))\n",
    "print(\"Prediction : \", rf.predict(X_test[idx].reshape(1,-1)))\n",
    "print(\"Actual :     \", Y_test[idx])\n"
   ]
  },
  {
   "cell_type": "code",
   "execution_count": null,
   "metadata": {},
   "outputs": [],
   "source": [
    "explanation = explainer.explain_instance(X_test[idx], rf.predict_proba)\n",
    "# explanation"
   ]
  },
  {
   "cell_type": "code",
   "execution_count": null,
   "metadata": {},
   "outputs": [],
   "source": [
    "explanation.show_in_notebook()"
   ]
  },
  {
   "cell_type": "code",
   "execution_count": null,
   "metadata": {},
   "outputs": [],
   "source": []
  },
  {
   "cell_type": "code",
   "execution_count": 26,
   "metadata": {},
   "outputs": [],
   "source": [
    "from time import time\n",
    "\n",
    "import matplotlib.pyplot as plt\n",
    "import numpy as np\n",
    "# import pandas as pd\n",
    "\n",
    "# from sklearn.svm import SVC\n",
    "# from sklearn import datasets\n",
    "from sklearn.model_selection import GridSearchCV\n",
    "# from sklearn.experimental import enable_halving_search_cv  # noqa\n",
    "# from sklearn.model_selection import HalvingGridSearchCV"
   ]
  },
  {
   "cell_type": "code",
   "execution_count": 27,
   "metadata": {},
   "outputs": [],
   "source": [
    "rng = np.random.RandomState(0)\n",
    "# X, y = datasets.make_classification(n_samples=1000, random_state=rng)\n",
    "\n",
    "gammas = [1e-1, 1e-2, 1e-3, 1e-4, 1e-5, 1e-6, 1e-7]\n",
    "Cs = [1, 10, 100, 1e3, 1e4, 1e5]\n",
    "param_grid = {\"gamma\": gammas, \"C\": Cs}\n",
    "\n",
    "clf = SVC(random_state=rng)\n",
    "\n",
    "# tic = time()\n",
    "# gsh = HalvingGridSearchCV(\n",
    "#     estimator=clf, param_grid=param_grid, factor=2, random_state=rng\n",
    "# )\n",
    "# gsh.fit(X_train, Y_train)\n",
    "# gsh_time = time() - tic\n",
    "\n",
    "tic = time()\n",
    "gs = GridSearchCV(estimator=clf, param_grid=param_grid)\n",
    "gs.fit(X_train, Y_train)\n",
    "gs_time = time() - tic"
   ]
  },
  {
   "cell_type": "code",
   "execution_count": 28,
   "metadata": {},
   "outputs": [
    {
     "data": {
      "text/plain": [
       "361.76117157936096"
      ]
     },
     "execution_count": 28,
     "metadata": {},
     "output_type": "execute_result"
    }
   ],
   "source": [
    "gs_time"
   ]
  },
  {
   "cell_type": "code",
   "execution_count": 30,
   "metadata": {},
   "outputs": [
    {
     "data": {
      "text/plain": [
       "SVC(C=10, gamma=0.1, random_state=RandomState(MT19937) at 0x2AE9278AD08)"
      ]
     },
     "execution_count": 30,
     "metadata": {},
     "output_type": "execute_result"
    }
   ],
   "source": [
    "gs.best_estimator_"
   ]
  },
  {
   "cell_type": "code",
   "execution_count": null,
   "metadata": {},
   "outputs": [],
   "source": []
  }
 ],
 "metadata": {
  "kernelspec": {
   "display_name": "Python 3",
   "language": "python",
   "name": "python3"
  },
  "language_info": {
   "codemirror_mode": {
    "name": "ipython",
    "version": 3
   },
   "file_extension": ".py",
   "mimetype": "text/x-python",
   "name": "python",
   "nbconvert_exporter": "python",
   "pygments_lexer": "ipython3",
   "version": "3.7.8"
  }
 },
 "nbformat": 4,
 "nbformat_minor": 4
}
